{
 "cells": [
  {
   "cell_type": "code",
   "execution_count": 11,
   "metadata": {},
   "outputs": [],
   "source": [
    "import numpy as np\n",
    "import pandas as pd\n",
    "from datetime import timedelta, datetime\n",
    "from google.oauth2 import service_account\n",
    "from apiclient.discovery import build\n",
    "import json\n",
    "\n",
    "\n",
    "def format_summary(response):\n",
    "    try:\n",
    "        # create row index\n",
    "        try: \n",
    "            row_index_names = response['reports'][0]['columnHeader']['dimensions']\n",
    "            row_index = [ element['dimensions'] for element in response['reports'][0]['data']['rows'] ]\n",
    "            row_index_named = pd.MultiIndex.from_arrays(np.transpose(np.array(row_index)), \n",
    "                                                        names = np.array(row_index_names))\n",
    "        except:\n",
    "            row_index_named = None\n",
    "        \n",
    "        # extract column names\n",
    "        summary_column_names = [item['name'] for item in response['reports'][0]\n",
    "                                ['columnHeader']['metricHeader']['metricHeaderEntries']]\n",
    "    \n",
    "        # extract table values\n",
    "        summary_values = [element['metrics'][0]['values'] for element in response['reports'][0]['data']['rows']]\n",
    "    \n",
    "        # combine. I used type 'float' because default is object, and as far as I know, all values are numeric\n",
    "        df = pd.DataFrame(data = np.array(summary_values), \n",
    "                          index = row_index_named, \n",
    "                          columns = summary_column_names).astype('float')\n",
    "    \n",
    "    except:\n",
    "        df = pd.DataFrame()\n",
    "        \n",
    "    return df\n",
    "\n",
    "def format_pivot(response):\n",
    "    try:\n",
    "        # extract table values\n",
    "        pivot_values = [item['metrics'][0]['pivotValueRegions'][0]['values'] for item in response['reports'][0]\n",
    "                        ['data']['rows']]\n",
    "        \n",
    "        # create column index\n",
    "        top_header = [item['dimensionValues'] for item in response['reports'][0]\n",
    "                      ['columnHeader']['metricHeader']['pivotHeaders'][0]['pivotHeaderEntries']]\n",
    "        column_metrics = [item['metric']['name'] for item in response['reports'][0]\n",
    "                          ['columnHeader']['metricHeader']['pivotHeaders'][0]['pivotHeaderEntries']]\n",
    "        array = np.concatenate((np.array(top_header),\n",
    "                                np.array(column_metrics).reshape((len(column_metrics),1))), \n",
    "                               axis = 1)\n",
    "        column_index = pd.MultiIndex.from_arrays(np.transpose(array))\n",
    "        \n",
    "        # create row index\n",
    "        try:\n",
    "            row_index_names = response['reports'][0]['columnHeader']['dimensions']\n",
    "            row_index = [ element['dimensions'] for element in response['reports'][0]['data']['rows'] ]\n",
    "            row_index_named = pd.MultiIndex.from_arrays(np.transpose(np.array(row_index)), \n",
    "                                                        names = np.array(row_index_names))\n",
    "        except: \n",
    "            row_index_named = None\n",
    "        # combine into a dataframe\n",
    "        df = pd.DataFrame(data = np.array(pivot_values), \n",
    "                          index = row_index_named, \n",
    "                          columns = column_index).astype('float')\n",
    "    except:\n",
    "        df = pd.DataFrame()\n",
    "    return df\n",
    "\n",
    "\n",
    "def run_report(body, credentials_file):\n",
    "    #Create service credentials\n",
    "    credentials = service_account.Credentials.from_service_account_file(credentials_file, \n",
    "                                scopes = ['https://www.googleapis.com/auth/analytics.readonly'])\n",
    "    #Create a service object\n",
    "    service = build('analyticsreporting', 'v4', credentials=credentials)\n",
    "    \n",
    "    #Get GA data\n",
    "    response = service.reports().batchGet(body=body).execute()\n",
    "    \n",
    "    return(response)"
   ]
  },
  {
   "cell_type": "code",
   "execution_count": 12,
   "metadata": {},
   "outputs": [],
   "source": [
    "view_id = '189183554'\n",
    "ga_keys = 'api_keys.json'"
   ]
  },
  {
   "cell_type": "code",
   "execution_count": 13,
   "metadata": {},
   "outputs": [],
   "source": [
    "insights={\n",
    "                'reportRequests': [\n",
    "                    {\n",
    "                        'viewId': view_id,\n",
    "                        'dateRanges': [{'startDate': '2022-01-01', 'endDate': 'today'}],\n",
    "                        'metrics': [{'expression' :'ga:adCost'} , {'expression' :'ga:impressions' }, {'expression' :'ga:adClicks'} ,{'expression' : 'ga:sessions'} ,\n",
    "                                    {'expression' :'ga:goal1Completions'} , {'expression' :'ga:goal2Completions'}, {'expression' :'ga:goal3Completions'}, {'expression' :'ga:goal4Completions'}\n",
    "                                    , {'expression' :'ga:goalCompletionsAll'}],\n",
    "                        'dimensions': [{'name' : 'ga:date'}, {'name':'ga:campaign'}, {'name':'ga:adGroup'}, {'name':'ga:adwordsCampaignID'}, {'name':'ga:adwordsAdGroupID'}, {'name':'ga:adwordsCustomerID'} ],\n",
    "                        'filtersExpression': 'ga:adGroup!=(not set)',\n",
    "                        'pageSize' : 100000\n",
    "                    }]\n",
    "            }"
   ]
  },
  {
   "cell_type": "code",
   "execution_count": 14,
   "metadata": {},
   "outputs": [
    {
     "ename": "TypeError",
     "evalue": "expected str, bytes or os.PathLike object, not list",
     "output_type": "error",
     "traceback": [
      "\u001b[1;31m---------------------------------------------------------------------------\u001b[0m",
      "\u001b[1;31mTypeError\u001b[0m                                 Traceback (most recent call last)",
      "Cell \u001b[1;32mIn[14], line 1\u001b[0m\n\u001b[1;32m----> 1\u001b[0m report \u001b[39m=\u001b[39m run_report(insights, API_KEYS)\n\u001b[0;32m      2\u001b[0m report\n",
      "Cell \u001b[1;32mIn[11], line 72\u001b[0m, in \u001b[0;36mrun_report\u001b[1;34m(body, credentials_file)\u001b[0m\n\u001b[0;32m     70\u001b[0m \u001b[39mdef\u001b[39;00m \u001b[39mrun_report\u001b[39m(body, credentials_file):\n\u001b[0;32m     71\u001b[0m     \u001b[39m#Create service credentials\u001b[39;00m\n\u001b[1;32m---> 72\u001b[0m     credentials \u001b[39m=\u001b[39m service_account\u001b[39m.\u001b[39;49mCredentials\u001b[39m.\u001b[39;49mfrom_service_account_file(credentials_file, \n\u001b[0;32m     73\u001b[0m                                 scopes \u001b[39m=\u001b[39;49m [\u001b[39m'\u001b[39;49m\u001b[39mhttps://www.googleapis.com/auth/analytics.readonly\u001b[39;49m\u001b[39m'\u001b[39;49m])\n\u001b[0;32m     74\u001b[0m     \u001b[39m#Create a service object\u001b[39;00m\n\u001b[0;32m     75\u001b[0m     service \u001b[39m=\u001b[39m build(\u001b[39m'\u001b[39m\u001b[39manalyticsreporting\u001b[39m\u001b[39m'\u001b[39m, \u001b[39m'\u001b[39m\u001b[39mv4\u001b[39m\u001b[39m'\u001b[39m, credentials\u001b[39m=\u001b[39mcredentials)\n",
      "File \u001b[1;32mc:\\Users\\c_gra\\OneDrive\\Escritorio\\ETL_Datafactory\\.venv\\lib\\site-packages\\google\\oauth2\\service_account.py:241\u001b[0m, in \u001b[0;36mCredentials.from_service_account_file\u001b[1;34m(cls, filename, **kwargs)\u001b[0m\n\u001b[0;32m    229\u001b[0m \u001b[39m@classmethod\u001b[39m\n\u001b[0;32m    230\u001b[0m \u001b[39mdef\u001b[39;00m \u001b[39mfrom_service_account_file\u001b[39m(\u001b[39mcls\u001b[39m, filename, \u001b[39m*\u001b[39m\u001b[39m*\u001b[39mkwargs):\n\u001b[0;32m    231\u001b[0m \u001b[39m    \u001b[39m\u001b[39m\"\"\"Creates a Credentials instance from a service account json file.\u001b[39;00m\n\u001b[0;32m    232\u001b[0m \n\u001b[0;32m    233\u001b[0m \u001b[39m    Args:\u001b[39;00m\n\u001b[1;32m   (...)\u001b[0m\n\u001b[0;32m    239\u001b[0m \u001b[39m            credentials.\u001b[39;00m\n\u001b[0;32m    240\u001b[0m \u001b[39m    \"\"\"\u001b[39;00m\n\u001b[1;32m--> 241\u001b[0m     info, signer \u001b[39m=\u001b[39m _service_account_info\u001b[39m.\u001b[39;49mfrom_filename(\n\u001b[0;32m    242\u001b[0m         filename, require\u001b[39m=\u001b[39;49m[\u001b[39m\"\u001b[39;49m\u001b[39mclient_email\u001b[39;49m\u001b[39m\"\u001b[39;49m, \u001b[39m\"\u001b[39;49m\u001b[39mtoken_uri\u001b[39;49m\u001b[39m\"\u001b[39;49m]\n\u001b[0;32m    243\u001b[0m     )\n\u001b[0;32m    244\u001b[0m     \u001b[39mreturn\u001b[39;00m \u001b[39mcls\u001b[39m\u001b[39m.\u001b[39m_from_signer_and_info(signer, info, \u001b[39m*\u001b[39m\u001b[39m*\u001b[39mkwargs)\n",
      "File \u001b[1;32mc:\\Users\\c_gra\\OneDrive\\Escritorio\\ETL_Datafactory\\.venv\\lib\\site-packages\\google\\auth\\_service_account_info.py:80\u001b[0m, in \u001b[0;36mfrom_filename\u001b[1;34m(filename, require, use_rsa_signer)\u001b[0m\n\u001b[0;32m     66\u001b[0m \u001b[39mdef\u001b[39;00m \u001b[39mfrom_filename\u001b[39m(filename, require\u001b[39m=\u001b[39m\u001b[39mNone\u001b[39;00m, use_rsa_signer\u001b[39m=\u001b[39m\u001b[39mTrue\u001b[39;00m):\n\u001b[0;32m     67\u001b[0m \u001b[39m    \u001b[39m\u001b[39m\"\"\"Reads a Google service account JSON file and returns its parsed info.\u001b[39;00m\n\u001b[0;32m     68\u001b[0m \n\u001b[0;32m     69\u001b[0m \u001b[39m    Args:\u001b[39;00m\n\u001b[1;32m   (...)\u001b[0m\n\u001b[0;32m     78\u001b[0m \u001b[39m            info and a signer instance.\u001b[39;00m\n\u001b[0;32m     79\u001b[0m \u001b[39m    \"\"\"\u001b[39;00m\n\u001b[1;32m---> 80\u001b[0m     \u001b[39mwith\u001b[39;00m io\u001b[39m.\u001b[39;49mopen(filename, \u001b[39m\"\u001b[39;49m\u001b[39mr\u001b[39;49m\u001b[39m\"\u001b[39;49m, encoding\u001b[39m=\u001b[39;49m\u001b[39m\"\u001b[39;49m\u001b[39mutf-8\u001b[39;49m\u001b[39m\"\u001b[39;49m) \u001b[39mas\u001b[39;00m json_file:\n\u001b[0;32m     81\u001b[0m         data \u001b[39m=\u001b[39m json\u001b[39m.\u001b[39mload(json_file)\n\u001b[0;32m     82\u001b[0m         \u001b[39mreturn\u001b[39;00m data, from_dict(data, require\u001b[39m=\u001b[39mrequire, use_rsa_signer\u001b[39m=\u001b[39muse_rsa_signer)\n",
      "\u001b[1;31mTypeError\u001b[0m: expected str, bytes or os.PathLike object, not list"
     ]
    }
   ],
   "source": [
    "report = run_report(insights, API_KEYS)\n",
    "report"
   ]
  },
  {
   "cell_type": "code",
   "execution_count": null,
   "metadata": {},
   "outputs": [],
   "source": [
    "def ga_response_dataframe(response):\n",
    "    \"\"\" Función para crear un dataframe de pandas a través de la respuesta de google Analytics\n",
    "    Args:\n",
    "        response: respuesta de la petición de Google Analytics\n",
    "    Returns:\n",
    "        Dataframe de pandas con las diferentes dimensiones y métricas\n",
    "    \"\"\"\n",
    "    row_list = []\n",
    "\n",
    "    # Get each collected report\n",
    "    for report in response.get('reports', []):\n",
    "        # Set column headers\n",
    "        column_header = report.get('columnHeader', {})\n",
    "        dimension_headers = column_header.get('dimensions', [])\n",
    "        metric_headers = column_header.get('metricHeader', {}).get('metricHeaderEntries', [])\n",
    "\n",
    "        # Get each row in the report\n",
    "        for row in report.get('data', {}).get('rows', []):\n",
    "            # create dict for each row\n",
    "            row_dict = {}\n",
    "            dimensions = row.get('dimensions', [])\n",
    "            date_range_values = row.get('metrics', [])\n",
    "\n",
    "            # Fill dict with dimension header (key) and dimension value (value)\n",
    "            for header, dimension in zip(dimension_headers, dimensions):\n",
    "                row_dict[header] = dimension\n",
    "\n",
    "            # Fill dict with metric header (key) and metric value (value)\n",
    "            for i, values in enumerate(date_range_values):\n",
    "                for metric, value in zip(metric_headers, values.get('values')):\n",
    "                    # Set int as int, float a float\n",
    "                    if ',' in value or '.' in value:\n",
    "                        row_dict[metric.get('name')] = float(value)\n",
    "                    else:\n",
    "                        row_dict[metric.get('name')] = int(value)\n",
    "\n",
    "            row_list.append(row_dict)\n",
    "    return pd.DataFrame(row_list)"
   ]
  },
  {
   "cell_type": "code",
   "execution_count": null,
   "metadata": {},
   "outputs": [],
   "source": [
    "report = ga_response_dataframe(report)"
   ]
  },
  {
   "cell_type": "code",
   "execution_count": null,
   "metadata": {},
   "outputs": [],
   "source": [
    "response_df = round(report , 2)\n",
    "        \n",
    "response_df = response_df.rename(columns=lambda x: x.split(':')[ 1 ])\n",
    "\n",
    "response_df = response_df.rename(columns=\n",
    "                    {'date': 'day'}\n",
    "                    )"
   ]
  },
  {
   "cell_type": "code",
   "execution_count": null,
   "metadata": {},
   "outputs": [],
   "source": [
    "def formato_adecuado(df_adv_report_ads_raw):\n",
    "    df_adv_report_ads_raw['day'] = pd.to_datetime(df_adv_report_ads_raw['day'])\n",
    "\n",
    "    return df_adv_report_ads_raw"
   ]
  },
  {
   "cell_type": "code",
   "execution_count": null,
   "metadata": {},
   "outputs": [],
   "source": [
    "response_df = formato_adecuado(response_df)"
   ]
  },
  {
   "cell_type": "code",
   "execution_count": null,
   "metadata": {},
   "outputs": [],
   "source": [
    "response_df = response_df.sort_values(['day', 'adCost'] , ascending = False)"
   ]
  }
 ],
 "metadata": {
  "kernelspec": {
   "display_name": ".venv",
   "language": "python",
   "name": "python3"
  },
  "language_info": {
   "codemirror_mode": {
    "name": "ipython",
    "version": 3
   },
   "file_extension": ".py",
   "mimetype": "text/x-python",
   "name": "python",
   "nbconvert_exporter": "python",
   "pygments_lexer": "ipython3",
   "version": "3.9.13 (tags/v3.9.13:6de2ca5, May 17 2022, 16:36:42) [MSC v.1929 64 bit (AMD64)]"
  },
  "orig_nbformat": 4,
  "vscode": {
   "interpreter": {
    "hash": "f5a7a4ad8438128b8805d79b3533fb2ba0c6029a0878a08ee61061a87d1ddb22"
   }
  }
 },
 "nbformat": 4,
 "nbformat_minor": 2
}
