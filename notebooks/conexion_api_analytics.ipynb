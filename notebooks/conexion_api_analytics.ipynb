{
 "cells": [
  {
   "cell_type": "code",
   "execution_count": 46,
   "metadata": {},
   "outputs": [],
   "source": [
    "\"\"\"Cliente para la API de Analytics.\n",
    "\n",
    "Incluye funcionalidades para descargar las métricas y dimensiones\n",
    "de una vista determinada.\n",
    "\n",
    "Para autenticarse en la API de Analytics solo basta con utilizar el json de la cuenta de servicio.\n",
    "\n",
    "\"\"\"\n",
    "\n",
    "# Arreglar el path\n",
    "import sys\n",
    "import json\n",
    "\n",
    "import os\n",
    "from apiclient.discovery import build\n",
    "from oauth2client.service_account import ServiceAccountCredentials\n",
    "import pandas as pd\n",
    "from datetime import timedelta, datetime\n",
    "\n",
    "\n",
    "SCOPES = ['https://www.googleapis.com/auth/analytics.readonly']\n",
    "\n",
    "DATE_FORMAT = '%Y-%m-%d'\n",
    "\n",
    "\n",
    "\n",
    "### Función que convierte la response de la api en un dataframe de Pandas\n",
    "def ga_response_dataframe(response):\n",
    "    \"\"\" Función para crear un dataframe de pandas a través de la respuesta de google Analytics\n",
    "    Args:\n",
    "        response: respuesta de la petición de Google Analytics\n",
    "    Returns:\n",
    "        Dataframe de pandas con las diferentes dimensiones y métricas\n",
    "    \"\"\"\n",
    "    row_list = []\n",
    "\n",
    "    # Get each collected report\n",
    "    for report in response.get('reports', []):\n",
    "        # Set column headers\n",
    "        column_header = report.get('columnHeader', {})\n",
    "        dimension_headers = column_header.get('dimensions', [])\n",
    "        metric_headers = column_header.get('metricHeader', {}).get('metricHeaderEntries', [])\n",
    "\n",
    "        # Get each row in the report\n",
    "        for row in report.get('data', {}).get('rows', []):\n",
    "            # create dict for each row\n",
    "            row_dict = {}\n",
    "            dimensions = row.get('dimensions', [])\n",
    "            date_range_values = row.get('metrics', [])\n",
    "\n",
    "            # Fill dict with dimension header (key) and dimension value (value)\n",
    "            for header, dimension in zip(dimension_headers, dimensions):\n",
    "                row_dict[header] = dimension\n",
    "\n",
    "            # Fill dict with metric header (key) and metric value (value)\n",
    "            for i, values in enumerate(date_range_values):\n",
    "                for metric, value in zip(metric_headers, values.get('values')):\n",
    "                    # Set int as int, float a float\n",
    "                    if ',' in value or '.' in value:\n",
    "                        row_dict[metric.get('name')] = float(value)\n",
    "                    else:\n",
    "                        row_dict[metric.get('name')] = int(value)\n",
    "\n",
    "            row_list.append(row_dict)\n",
    "    return pd.DataFrame(row_list)\n",
    "\n",
    "\n",
    "class Client:\n",
    "    \"\"\"Cliente para conexión Oauth2 con la API de Taboola.\"\"\"\n",
    "\n",
    "    def __init__(self, path_cred):\n",
    "        \"\"\"Initializes an Analytics Reporting API V4 service object.\n",
    "        \"\"\"\n",
    "\n",
    "        credentials = ServiceAccountCredentials.from_json_keyfile_name(\n",
    "            path_cred, SCOPES)\n",
    "\n",
    "        # Build the service object.\n",
    "        self.analytics = build('analyticsreporting', 'v4', credentials=credentials)\n",
    "\n",
    "    ### Función que recibe diferentes parámetros para extraer datos de Analytics\n",
    "    def get_report(self,\n",
    "                   view_id ,\n",
    "                   start_date ,\n",
    "                   end_date ,\n",
    "                   list_metrics = [ 'ga:users' , 'ga:newUsers' , 'ga:sessions' , 'ga:bounceRate' ,\n",
    "                                    'ga:pageviewsPerSession' , 'ga:avgSessionDuration' ] ,\n",
    "                   list_dimensions = [ 'ga:source','ga:medium' ] ,\n",
    "                   # list_dimensions=['ga:date' , 'ga:campaign', 'ga:source'],\n",
    "                   filters = ''):\n",
    "        \"\"\"Queries the Analytics Reporting API V4.\n",
    "        Args:\n",
    "          analytics: An authorized Analytics Reporting API V4 service object.\n",
    "          start_date: fecha de inicio del reporte (Ej: 2021-04-14)\n",
    "          end_date: fecha final del reporte (Ej: 2021-04-14)\n",
    "          list_metrics: lista con las diferentes métricas\n",
    "          list_dimensions: lista con las diferentes dimensiones\n",
    "          filters: string con el filtro (Ej: 'ga:source=~bing' o 'ga:sessions>=600,ga:users>=801')\n",
    "          DOC filters:   \n",
    "\n",
    "        Returns:\n",
    "          response: json con los resultados\n",
    "        \"\"\"\n",
    "        metrics = []\n",
    "        for i in list_metrics:\n",
    "            metrics.append({\"expression\": i})\n",
    "\n",
    "        dimensions = []\n",
    "        for i in list_dimensions:\n",
    "            dimensions.append({\"name\": i})\n",
    "\n",
    "        response = self.analytics.reports().batchGet(\n",
    "            body={\n",
    "                'reportRequests': [\n",
    "                    {\n",
    "                        'viewId': view_id,\n",
    "                        'dateRanges': [{'startDate': start_date, 'endDate': end_date}],\n",
    "                        'metrics': metrics,\n",
    "                        'dimensions': dimensions,\n",
    "                        'filtersExpression': filters,\n",
    "                        'pageSize' : 100000\n",
    "                    }]\n",
    "            }\n",
    "        ).execute()\n",
    "        \n",
    "        return ga_response_dataframe(response)"
   ]
  },
  {
   "cell_type": "code",
   "execution_count": 47,
   "metadata": {},
   "outputs": [],
   "source": [
    "sys.path.append('C:\\\\Users\\\\c_gra\\\\OneDrive\\\\Escritorio\\\\ETL_Datafactory')"
   ]
  },
  {
   "cell_type": "code",
   "execution_count": 48,
   "metadata": {},
   "outputs": [],
   "source": [
    "from scripts import config"
   ]
  },
  {
   "cell_type": "code",
   "execution_count": 49,
   "metadata": {},
   "outputs": [],
   "source": [
    "with open('C:/Users/c_gra/OneDrive/Escritorio/ETL_Datafactory/data/cfs/entrypoint_gads.json') as f:\n",
    "    dict_entrypoint = json.load(f)"
   ]
  },
  {
   "cell_type": "code",
   "execution_count": 50,
   "metadata": {},
   "outputs": [
    {
     "data": {
      "text/plain": [
       "{'platform': 'googleads',\n",
       " 'ecommerce': False,\n",
       " 'advertiser_name': 'vitaldent_2022',\n",
       " 'advertiser_id': '189183554',\n",
       " 'list_dimensions_insights': ['ga:date',\n",
       "  'ga:campaign',\n",
       "  'ga:adGroup',\n",
       "  'ga:adwordsCampaignID',\n",
       "  'ga:adwordsAdGroupID',\n",
       "  'ga:adwordsCustomerID'],\n",
       " 'list_dimensions_clientid': ['ga:date',\n",
       "  'ga:campaign',\n",
       "  'ga:source',\n",
       "  'ga:medium',\n",
       "  'ga:channelGrouping',\n",
       "  'ga:dimension3',\n",
       "  'ga:hostname',\n",
       "  'ga:landingPagePath',\n",
       "  'ga:fullReferrer'],\n",
       " 'table_insights': 'ommax.etl_vitaldent_googleAds_insights',\n",
       " 'table_insights_client_id': 'ommax.etl_vitaldent_tuclinica_clientid'}"
      ]
     },
     "execution_count": 50,
     "metadata": {},
     "output_type": "execute_result"
    }
   ],
   "source": [
    "dict_entrypoint"
   ]
  },
  {
   "cell_type": "code",
   "execution_count": 51,
   "metadata": {},
   "outputs": [],
   "source": [
    "list_metrics = [ 'ga:adCost' , 'ga:impressions' , 'ga:adClicks' , 'ga:sessions',\n",
    "'ga:goal1Completions', 'ga:goal2Completions', 'ga:goal3Completions', 'ga:goal4Completions',\n",
    "'ga:goalCompletionsAll']"
   ]
  },
  {
   "cell_type": "code",
   "execution_count": 55,
   "metadata": {},
   "outputs": [],
   "source": [
    "view_id = dict_entrypoint['advertiser_id']\n",
    "\n",
    "dateRanges = {'start_date' : '2022-12-01',\n",
    "              'end_date' : '2023-01-23'}\n",
    "\n",
    "list_dimensions = dict_entrypoint['list_dimensions_insights']"
   ]
  },
  {
   "cell_type": "code",
   "execution_count": 53,
   "metadata": {},
   "outputs": [],
   "source": [
    "filters = 'ga:adGroup!=(not set)'"
   ]
  },
  {
   "cell_type": "code",
   "execution_count": 56,
   "metadata": {},
   "outputs": [
    {
     "ename": "TypeError",
     "evalue": "'type' object is not subscriptable",
     "output_type": "error",
     "traceback": [
      "\u001b[1;31m---------------------------------------------------------------------------\u001b[0m",
      "\u001b[1;31mTypeError\u001b[0m                                 Traceback (most recent call last)",
      "\u001b[1;32mc:\\Users\\c_gra\\OneDrive\\Escritorio\\ETL_Datafactory\\notebooks\\conexion_api_analytics.ipynb Cell 9\u001b[0m in \u001b[0;36m<cell line: 1>\u001b[1;34m()\u001b[0m\n\u001b[1;32m----> <a href='vscode-notebook-cell:/c%3A/Users/c_gra/OneDrive/Escritorio/ETL_Datafactory/notebooks/conexion_api_analytics.ipynb#W5sZmlsZQ%3D%3D?line=0'>1</a>\u001b[0m Client\u001b[39m.\u001b[39mget_report(view_id, datetime[\u001b[39m'\u001b[39;49m\u001b[39mstart_date\u001b[39;49m\u001b[39m'\u001b[39;49m], datetime[\u001b[39m'\u001b[39m\u001b[39mend_date\u001b[39m\u001b[39m'\u001b[39m], list_metrics, list_dimensions, filters)\n",
      "\u001b[1;31mTypeError\u001b[0m: 'type' object is not subscriptable"
     ]
    }
   ],
   "source": [
    "Client.get_report(view_id, datetime['start_date'], datetime['end_date'], list_metrics, list_dimensions, filters)"
   ]
  }
 ],
 "metadata": {
  "kernelspec": {
   "display_name": "Python 3",
   "language": "python",
   "name": "python3"
  },
  "language_info": {
   "codemirror_mode": {
    "name": "ipython",
    "version": 3
   },
   "file_extension": ".py",
   "mimetype": "text/x-python",
   "name": "python",
   "nbconvert_exporter": "python",
   "pygments_lexer": "ipython3",
   "version": "3.9.13 (tags/v3.9.13:6de2ca5, May 17 2022, 16:36:42) [MSC v.1929 64 bit (AMD64)]"
  },
  "orig_nbformat": 4,
  "vscode": {
   "interpreter": {
    "hash": "51f385ccb905c663580f8e9ab7e35b7cc94018a47b0054c2b9a92d83b699aea4"
   }
  }
 },
 "nbformat": 4,
 "nbformat_minor": 2
}
